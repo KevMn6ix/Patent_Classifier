{
 "cells": [
  {
   "cell_type": "code",
   "execution_count": 222,
   "metadata": {},
   "outputs": [],
   "source": [
    "from bs4 import BeautifulSoup\n",
    "import requests\n",
    "\n",
    "#url = 'https://worldwide.espacenet.com/patent/cpc-browser#!/'\n",
    "url ='https://www.uspto.gov/web/patents/classification/cpc/html/cpc-G.html'\n",
    "\n",
    "page = requests.get(url)\n"
   ]
  },
  {
   "cell_type": "code",
   "execution_count": 223,
   "metadata": {},
   "outputs": [],
   "source": [
    "# find section"
   ]
  },
  {
   "cell_type": "code",
   "execution_count": 226,
   "metadata": {
    "scrolled": true
   },
   "outputs": [],
   "source": [
    "soup = BeautifulSoup(page.text, 'html')\n"
   ]
  },
  {
   "cell_type": "code",
   "execution_count": 225,
   "metadata": {},
   "outputs": [
    {
     "data": {
      "text/plain": [
       "'Physics'"
      ]
     },
     "execution_count": 225,
     "metadata": {},
     "output_type": "execute_result"
    }
   ],
   "source": [
    "soup.find('span', class_ ='ipc-text').text.rstrip().title()"
   ]
  },
  {
   "cell_type": "code",
   "execution_count": null,
   "metadata": {},
   "outputs": [],
   "source": [
    "# class"
   ]
  },
  {
   "cell_type": "code",
   "execution_count": 210,
   "metadata": {},
   "outputs": [],
   "source": [
    "def find_class_description(section, class_):\n",
    "    url =f'https://www.uspto.gov/web/patents/classification/cpc/html/cpc-{section}.html'\n",
    "    page = requests.get(url)\n",
    "    soup = BeautifulSoup(page.text, 'html')\n",
    "    desc = soup.find('table', id=f'{section}{class_}').find('span', class_='ipc-text').text.rstrip().title()\n",
    "    return desc"
   ]
  },
  {
   "cell_type": "code",
   "execution_count": 211,
   "metadata": {},
   "outputs": [
    {
     "name": "stdout",
     "output_type": "stream",
     "text": [
      "Computing\n"
     ]
    }
   ],
   "source": [
    "print(find_class_description('G', '06'))"
   ]
  },
  {
   "cell_type": "code",
   "execution_count": 166,
   "metadata": {},
   "outputs": [],
   "source": [
    "#subclass"
   ]
  },
  {
   "cell_type": "code",
   "execution_count": 212,
   "metadata": {},
   "outputs": [],
   "source": [
    "def find_subclass_description(section, class_, subclass):\n",
    "    url =f'https://www.uspto.gov/web/patents/classification/cpc/html/cpc-{section}{class_}{subclass}.html'\n",
    "    page = requests.get(url)\n",
    "    soup = BeautifulSoup(page.text, 'html')\n",
    "    desc = soup.find('table', id =f'{section}{class_}{subclass}').find('span', class_='ipc-text').text.rstrip().title()\n",
    "    return desc"
   ]
  },
  {
   "cell_type": "code",
   "execution_count": 215,
   "metadata": {},
   "outputs": [
    {
     "name": "stdout",
     "output_type": "stream",
     "text": [
      "Electric Digital Data Processing\n"
     ]
    }
   ],
   "source": [
    "print(find_subclass_description('G','06', 'F'))"
   ]
  },
  {
   "cell_type": "code",
   "execution_count": 169,
   "metadata": {},
   "outputs": [],
   "source": [
    "#group"
   ]
  },
  {
   "cell_type": "code",
   "execution_count": 216,
   "metadata": {},
   "outputs": [],
   "source": [
    "def find_group_description(section, class_, subclass, group):\n",
    "    url = f'https://www.uspto.gov/web/patents/classification/cpc/html/cpc-{section}{class_}{subclass}.html'\n",
    "    page = requests.get(url)\n",
    "    soup = BeautifulSoup(page.text, 'html')\n",
    "    desc = soup.find('table', id = f'{section}{class_}{subclass}{group}/00').find('span', class_ = 'ipc-text').text.rstrip().title()\n",
    "    return desc"
   ]
  },
  {
   "cell_type": "code",
   "execution_count": 217,
   "metadata": {},
   "outputs": [
    {
     "name": "stdout",
     "output_type": "stream",
     "text": [
      "Input Arrangements For Transferring Data To Be Processed Into A Form Capable Of Being Handled By The Computer\n"
     ]
    }
   ],
   "source": [
    "print(find_group_description('G','06', 'F','3'))"
   ]
  },
  {
   "cell_type": "code",
   "execution_count": 172,
   "metadata": {},
   "outputs": [],
   "source": [
    "# subgroup"
   ]
  },
  {
   "cell_type": "code",
   "execution_count": 219,
   "metadata": {},
   "outputs": [],
   "source": [
    "def find_subgroup_description(section, class_, subclass, group, subgroup):\n",
    "    url = f'https://www.uspto.gov/web/patents/classification/cpc/html/cpc-{section}{class_}{subclass}.html'\n",
    "    page = requests.get(url)\n",
    "    soup = BeautifulSoup(page.text, 'html')\n",
    "    desc = soup.find('table', id = f'{section}{class_}{subclass}{group}/{subgroup}').find('span', class_ = 'cpc-text').text.rstrip().title()\n",
    "    return desc"
   ]
  },
  {
   "cell_type": "code",
   "execution_count": 221,
   "metadata": {},
   "outputs": [
    {
     "name": "stdout",
     "output_type": "stream",
     "text": [
      "Using A Single Layer Of Sensing Electrodes\n"
     ]
    }
   ],
   "source": [
    "print(find_subgroup_description('G','06', 'F','3', '0443'))"
   ]
  },
  {
   "cell_type": "code",
   "execution_count": 193,
   "metadata": {},
   "outputs": [
    {
     "data": {
      "text/plain": [
       "'G06F3/0443'"
      ]
     },
     "execution_count": 193,
     "metadata": {},
     "output_type": "execute_result"
    }
   ],
   "source": [
    "formatted_result = {\n",
    "    'Section': 'G',\n",
    "    'Class': '06',\n",
    "    'Subclass': 'F',\n",
    "    'Group': '3',\n",
    "    'Subgroup': '0443',\n",
    "    'Full CPC Code': 'G06F3/0443'\n",
    "}\n",
    "\n",
    "formatted_result['Full CPC Code']"
   ]
  },
  {
   "cell_type": "code",
   "execution_count": null,
   "metadata": {},
   "outputs": [],
   "source": []
  }
 ],
 "metadata": {
  "kernelspec": {
   "display_name": "Python 3 (ipykernel)",
   "language": "python",
   "name": "python3"
  },
  "language_info": {
   "codemirror_mode": {
    "name": "ipython",
    "version": 3
   },
   "file_extension": ".py",
   "mimetype": "text/x-python",
   "name": "python",
   "nbconvert_exporter": "python",
   "pygments_lexer": "ipython3",
   "version": "3.11.4"
  }
 },
 "nbformat": 4,
 "nbformat_minor": 2
}
