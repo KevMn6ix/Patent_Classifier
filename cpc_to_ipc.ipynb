{
 "cells": [
  {
   "cell_type": "code",
   "execution_count": 7,
   "id": "51edcbcd",
   "metadata": {},
   "outputs": [],
   "source": [
    "import pandas as pd\n",
    "import requests"
   ]
  },
  {
   "cell_type": "code",
   "execution_count": 9,
   "id": "8bb65c4f",
   "metadata": {},
   "outputs": [],
   "source": [
    "url = 'https://www.cooperativepatentclassification.org/sites/default/files/cpc/concordances/cpc-ipc-concordance.txt'\n",
    "\n",
    "response = requests.get(url)\n",
    "response.raise_for_status()"
   ]
  },
  {
   "cell_type": "code",
   "execution_count": 10,
   "id": "d342797a",
   "metadata": {},
   "outputs": [],
   "source": [
    "from io import StringIO\n",
    "\n",
    "data = StringIO(response.text)\n",
    "df_pandas = pd.read_csv(data, delimiter='\\t', header=0)"
   ]
  },
  {
   "cell_type": "code",
   "execution_count": 11,
   "id": "9170541c",
   "metadata": {},
   "outputs": [
    {
     "data": {
      "text/html": [
       "<div>\n",
       "<style scoped>\n",
       "    .dataframe tbody tr th:only-of-type {\n",
       "        vertical-align: middle;\n",
       "    }\n",
       "\n",
       "    .dataframe tbody tr th {\n",
       "        vertical-align: top;\n",
       "    }\n",
       "\n",
       "    .dataframe thead th {\n",
       "        text-align: right;\n",
       "    }\n",
       "</style>\n",
       "<table border=\"1\" class=\"dataframe\">\n",
       "  <thead>\n",
       "    <tr style=\"text-align: right;\">\n",
       "      <th></th>\n",
       "      <th>CPC Group</th>\n",
       "      <th>Unnamed: 1</th>\n",
       "      <th>IPC Group</th>\n",
       "      <th>Unnamed: 3</th>\n",
       "      <th>CPC Indent Level</th>\n",
       "    </tr>\n",
       "  </thead>\n",
       "  <tbody>\n",
       "    <tr>\n",
       "      <th>0</th>\n",
       "      <td>A01B1/00</td>\n",
       "      <td>NaN</td>\n",
       "      <td>A01B1/00</td>\n",
       "      <td>NaN</td>\n",
       "      <td>0</td>\n",
       "    </tr>\n",
       "    <tr>\n",
       "      <th>1</th>\n",
       "      <td>A01B1/02</td>\n",
       "      <td>NaN</td>\n",
       "      <td>A01B1/02</td>\n",
       "      <td>NaN</td>\n",
       "      <td>1</td>\n",
       "    </tr>\n",
       "    <tr>\n",
       "      <th>2</th>\n",
       "      <td>A01B1/022</td>\n",
       "      <td>NaN</td>\n",
       "      <td>A01B1/02</td>\n",
       "      <td>NaN</td>\n",
       "      <td>2</td>\n",
       "    </tr>\n",
       "    <tr>\n",
       "      <th>3</th>\n",
       "      <td>A01B1/024</td>\n",
       "      <td>NaN</td>\n",
       "      <td>A01B1/02</td>\n",
       "      <td>NaN</td>\n",
       "      <td>2</td>\n",
       "    </tr>\n",
       "    <tr>\n",
       "      <th>4</th>\n",
       "      <td>A01B1/026</td>\n",
       "      <td>NaN</td>\n",
       "      <td>A01B1/02</td>\n",
       "      <td>NaN</td>\n",
       "      <td>2</td>\n",
       "    </tr>\n",
       "  </tbody>\n",
       "</table>\n",
       "</div>"
      ],
      "text/plain": [
       "   CPC Group  Unnamed: 1 IPC Group  Unnamed: 3  CPC Indent Level\n",
       "0   A01B1/00         NaN  A01B1/00         NaN                 0\n",
       "1   A01B1/02         NaN  A01B1/02         NaN                 1\n",
       "2  A01B1/022         NaN  A01B1/02         NaN                 2\n",
       "3  A01B1/024         NaN  A01B1/02         NaN                 2\n",
       "4  A01B1/026         NaN  A01B1/02         NaN                 2"
      ]
     },
     "execution_count": 11,
     "metadata": {},
     "output_type": "execute_result"
    }
   ],
   "source": [
    "df_pandas.head()"
   ]
  },
  {
   "cell_type": "code",
   "execution_count": 16,
   "id": "3fdf12a0",
   "metadata": {},
   "outputs": [
    {
     "data": {
      "text/html": [
       "<div>\n",
       "<style scoped>\n",
       "    .dataframe tbody tr th:only-of-type {\n",
       "        vertical-align: middle;\n",
       "    }\n",
       "\n",
       "    .dataframe tbody tr th {\n",
       "        vertical-align: top;\n",
       "    }\n",
       "\n",
       "    .dataframe thead th {\n",
       "        text-align: right;\n",
       "    }\n",
       "</style>\n",
       "<table border=\"1\" class=\"dataframe\">\n",
       "  <thead>\n",
       "    <tr style=\"text-align: right;\">\n",
       "      <th></th>\n",
       "      <th>CPC Group</th>\n",
       "      <th>Unnamed: 1</th>\n",
       "      <th>IPC Group</th>\n",
       "      <th>Unnamed: 3</th>\n",
       "      <th>CPC Indent Level</th>\n",
       "    </tr>\n",
       "  </thead>\n",
       "  <tbody>\n",
       "    <tr>\n",
       "      <th>110758</th>\n",
       "      <td>C11B9/0073</td>\n",
       "      <td>NaN</td>\n",
       "      <td>C11B9/00</td>\n",
       "      <td>NaN</td>\n",
       "      <td>2</td>\n",
       "    </tr>\n",
       "    <tr>\n",
       "      <th>119244</th>\n",
       "      <td>C12Y208/0201</td>\n",
       "      <td>NaN</td>\n",
       "      <td>CPCONLY</td>\n",
       "      <td>NaN</td>\n",
       "      <td>2</td>\n",
       "    </tr>\n",
       "    <tr>\n",
       "      <th>36765</th>\n",
       "      <td>B02B3/08</td>\n",
       "      <td>NaN</td>\n",
       "      <td>B02B3/08</td>\n",
       "      <td>NaN</td>\n",
       "      <td>1</td>\n",
       "    </tr>\n",
       "    <tr>\n",
       "      <th>156056</th>\n",
       "      <td>F16K99/0055</td>\n",
       "      <td>NaN</td>\n",
       "      <td>F16K99/00</td>\n",
       "      <td>NaN</td>\n",
       "      <td>3</td>\n",
       "    </tr>\n",
       "    <tr>\n",
       "      <th>75518</th>\n",
       "      <td>B65B19/04</td>\n",
       "      <td>NaN</td>\n",
       "      <td>B65B19/04</td>\n",
       "      <td>NaN</td>\n",
       "      <td>2</td>\n",
       "    </tr>\n",
       "  </tbody>\n",
       "</table>\n",
       "</div>"
      ],
      "text/plain": [
       "           CPC Group  Unnamed: 1  IPC Group  Unnamed: 3  CPC Indent Level\n",
       "110758    C11B9/0073         NaN   C11B9/00         NaN                 2\n",
       "119244  C12Y208/0201         NaN    CPCONLY         NaN                 2\n",
       "36765       B02B3/08         NaN   B02B3/08         NaN                 1\n",
       "156056   F16K99/0055         NaN  F16K99/00         NaN                 3\n",
       "75518      B65B19/04         NaN  B65B19/04         NaN                 2"
      ]
     },
     "execution_count": 16,
     "metadata": {},
     "output_type": "execute_result"
    }
   ],
   "source": [
    "df_pandas.sample(5)"
   ]
  },
  {
   "cell_type": "code",
   "execution_count": 29,
   "id": "ac7f3d2d",
   "metadata": {},
   "outputs": [
    {
     "data": {
      "text/html": [
       "<div>\n",
       "<style scoped>\n",
       "    .dataframe tbody tr th:only-of-type {\n",
       "        vertical-align: middle;\n",
       "    }\n",
       "\n",
       "    .dataframe tbody tr th {\n",
       "        vertical-align: top;\n",
       "    }\n",
       "\n",
       "    .dataframe thead th {\n",
       "        text-align: right;\n",
       "    }\n",
       "</style>\n",
       "<table border=\"1\" class=\"dataframe\">\n",
       "  <thead>\n",
       "    <tr style=\"text-align: right;\">\n",
       "      <th></th>\n",
       "      <th>CPC Group</th>\n",
       "      <th>Unnamed: 1</th>\n",
       "      <th>IPC Group</th>\n",
       "      <th>Unnamed: 3</th>\n",
       "      <th>CPC Indent Level</th>\n",
       "    </tr>\n",
       "  </thead>\n",
       "  <tbody>\n",
       "    <tr>\n",
       "      <th>45169</th>\n",
       "      <td>B23K26/389</td>\n",
       "      <td>NaN</td>\n",
       "      <td>B23K26/382</td>\n",
       "      <td>NaN</td>\n",
       "      <td>4</td>\n",
       "    </tr>\n",
       "  </tbody>\n",
       "</table>\n",
       "</div>"
      ],
      "text/plain": [
       "        CPC Group  Unnamed: 1   IPC Group  Unnamed: 3  CPC Indent Level\n",
       "45169  B23K26/389         NaN  B23K26/382         NaN                 4"
      ]
     },
     "execution_count": 29,
     "metadata": {},
     "output_type": "execute_result"
    }
   ],
   "source": [
    "cpc_code = 'B23K26/389'\n",
    "filtered_df = df_pandas[df_pandas[\"CPC Group\"] == cpc_code]\n",
    "filtered_df"
   ]
  },
  {
   "cell_type": "code",
   "execution_count": 30,
   "id": "6dc15b06",
   "metadata": {},
   "outputs": [],
   "source": [
    "ipc_code = filtered_df[\"IPC Group\"].values[0]"
   ]
  },
  {
   "cell_type": "code",
   "execution_count": 31,
   "id": "12a12fb2",
   "metadata": {},
   "outputs": [
    {
     "name": "stdout",
     "output_type": "stream",
     "text": [
      "B23K26/382\n"
     ]
    }
   ],
   "source": [
    "print(ipc_code)"
   ]
  },
  {
   "cell_type": "code",
   "execution_count": null,
   "id": "739bd074",
   "metadata": {},
   "outputs": [],
   "source": []
  }
 ],
 "metadata": {
  "kernelspec": {
   "display_name": "Python 3 (ipykernel)",
   "language": "python",
   "name": "python3"
  },
  "language_info": {
   "codemirror_mode": {
    "name": "ipython",
    "version": 3
   },
   "file_extension": ".py",
   "mimetype": "text/x-python",
   "name": "python",
   "nbconvert_exporter": "python",
   "pygments_lexer": "ipython3",
   "version": "3.11.4"
  }
 },
 "nbformat": 4,
 "nbformat_minor": 5
}
